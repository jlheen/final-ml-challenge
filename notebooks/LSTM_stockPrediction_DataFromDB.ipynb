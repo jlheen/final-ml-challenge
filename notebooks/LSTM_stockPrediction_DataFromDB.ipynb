{
 "cells": [
  {
   "cell_type": "code",
   "execution_count": 78,
   "metadata": {},
   "outputs": [],
   "source": [
    "# ###############################################################################################\n",
    "# LSTM RNN machine learing model is applied to predict the next close price .\n",
    "# output: next day close prices.\n",
    "# input window size: 60 days\n",
    "#################################################################################################\n",
    "\n",
    "import pandas as pd\n",
    "import numpy as np\n",
    "import matplotlib.pyplot as plt\n",
    "%matplotlib inline\n",
    "from matplotlib.pylab import rcParams\n",
    "rcParams['figure.figsize']=20,10\n",
    "from keras.models import Sequential\n",
    "from keras.layers import LSTM,Dropout,Dense\n",
    "from sklearn.preprocessing import MinMaxScaler\n",
    "# Read in data from Heroku API\n",
    "import json, requests"
   ]
  },
  {
   "cell_type": "code",
   "execution_count": 91,
   "metadata": {},
   "outputs": [],
   "source": [
    "name='bk'"
   ]
  },
  {
   "cell_type": "code",
   "execution_count": 92,
   "metadata": {},
   "outputs": [
    {
     "data": {
      "text/html": [
       "<div>\n",
       "<style scoped>\n",
       "    .dataframe tbody tr th:only-of-type {\n",
       "        vertical-align: middle;\n",
       "    }\n",
       "\n",
       "    .dataframe tbody tr th {\n",
       "        vertical-align: top;\n",
       "    }\n",
       "\n",
       "    .dataframe thead th {\n",
       "        text-align: right;\n",
       "    }\n",
       "</style>\n",
       "<table border=\"1\" class=\"dataframe\">\n",
       "  <thead>\n",
       "    <tr style=\"text-align: right;\">\n",
       "      <th></th>\n",
       "      <th>adj_close</th>\n",
       "      <th>close</th>\n",
       "      <th>date</th>\n",
       "      <th>direction</th>\n",
       "      <th>dividend</th>\n",
       "      <th>high</th>\n",
       "      <th>id</th>\n",
       "      <th>low</th>\n",
       "      <th>next_close</th>\n",
       "      <th>open_amt</th>\n",
       "      <th>roc</th>\n",
       "      <th>rsi</th>\n",
       "      <th>slowd</th>\n",
       "      <th>slowk</th>\n",
       "      <th>sma</th>\n",
       "      <th>split</th>\n",
       "      <th>std</th>\n",
       "      <th>ticker</th>\n",
       "      <th>volume</th>\n",
       "      <th>willr</th>\n",
       "    </tr>\n",
       "  </thead>\n",
       "  <tbody>\n",
       "    <tr>\n",
       "      <td>0</td>\n",
       "      <td>21.5119</td>\n",
       "      <td>26.23</td>\n",
       "      <td>2010-07-09</td>\n",
       "      <td>1</td>\n",
       "      <td>0.0</td>\n",
       "      <td>26.24</td>\n",
       "      <td>4</td>\n",
       "      <td>25.75</td>\n",
       "      <td>26.27</td>\n",
       "      <td>25.97</td>\n",
       "      <td>-1.3168</td>\n",
       "      <td>50.3306</td>\n",
       "      <td>69.5356</td>\n",
       "      <td>85.7936</td>\n",
       "      <td>25.6100</td>\n",
       "      <td>1.0</td>\n",
       "      <td>0.99445</td>\n",
       "      <td>BK</td>\n",
       "      <td>5400600</td>\n",
       "      <td>-24.4604</td>\n",
       "    </tr>\n",
       "    <tr>\n",
       "      <td>1</td>\n",
       "      <td>21.5447</td>\n",
       "      <td>26.27</td>\n",
       "      <td>2010-07-12</td>\n",
       "      <td>1</td>\n",
       "      <td>0.0</td>\n",
       "      <td>26.39</td>\n",
       "      <td>15</td>\n",
       "      <td>26.03</td>\n",
       "      <td>26.85</td>\n",
       "      <td>26.10</td>\n",
       "      <td>-0.5678</td>\n",
       "      <td>50.6905</td>\n",
       "      <td>79.1860</td>\n",
       "      <td>81.3300</td>\n",
       "      <td>25.5993</td>\n",
       "      <td>1.0</td>\n",
       "      <td>0.97630</td>\n",
       "      <td>BK</td>\n",
       "      <td>4736900</td>\n",
       "      <td>-18.0077</td>\n",
       "    </tr>\n",
       "    <tr>\n",
       "      <td>2</td>\n",
       "      <td>22.0204</td>\n",
       "      <td>26.85</td>\n",
       "      <td>2010-07-13</td>\n",
       "      <td>-1</td>\n",
       "      <td>0.0</td>\n",
       "      <td>26.95</td>\n",
       "      <td>26</td>\n",
       "      <td>26.46</td>\n",
       "      <td>26.61</td>\n",
       "      <td>26.48</td>\n",
       "      <td>2.2857</td>\n",
       "      <td>55.7029</td>\n",
       "      <td>84.8294</td>\n",
       "      <td>87.3645</td>\n",
       "      <td>25.6421</td>\n",
       "      <td>1.0</td>\n",
       "      <td>1.06420</td>\n",
       "      <td>BK</td>\n",
       "      <td>10718800</td>\n",
       "      <td>-3.5461</td>\n",
       "    </tr>\n",
       "    <tr>\n",
       "      <td>3</td>\n",
       "      <td>21.8236</td>\n",
       "      <td>26.61</td>\n",
       "      <td>2010-07-14</td>\n",
       "      <td>1</td>\n",
       "      <td>0.0</td>\n",
       "      <td>26.81</td>\n",
       "      <td>37</td>\n",
       "      <td>26.42</td>\n",
       "      <td>26.79</td>\n",
       "      <td>26.63</td>\n",
       "      <td>1.8760</td>\n",
       "      <td>53.2890</td>\n",
       "      <td>84.2320</td>\n",
       "      <td>84.0016</td>\n",
       "      <td>25.6771</td>\n",
       "      <td>1.0</td>\n",
       "      <td>1.11515</td>\n",
       "      <td>BK</td>\n",
       "      <td>7324900</td>\n",
       "      <td>-12.0567</td>\n",
       "    </tr>\n",
       "    <tr>\n",
       "      <td>4</td>\n",
       "      <td>21.9712</td>\n",
       "      <td>26.79</td>\n",
       "      <td>2010-07-15</td>\n",
       "      <td>-1</td>\n",
       "      <td>0.0</td>\n",
       "      <td>26.91</td>\n",
       "      <td>48</td>\n",
       "      <td>26.25</td>\n",
       "      <td>25.73</td>\n",
       "      <td>26.54</td>\n",
       "      <td>4.9765</td>\n",
       "      <td>54.8687</td>\n",
       "      <td>85.2791</td>\n",
       "      <td>84.4712</td>\n",
       "      <td>25.7679</td>\n",
       "      <td>1.0</td>\n",
       "      <td>1.19165</td>\n",
       "      <td>BK</td>\n",
       "      <td>8062300</td>\n",
       "      <td>-5.6738</td>\n",
       "    </tr>\n",
       "  </tbody>\n",
       "</table>\n",
       "</div>"
      ],
      "text/plain": [
       "   adj_close  close        date  direction  dividend   high  id    low  \\\n",
       "0    21.5119  26.23  2010-07-09          1       0.0  26.24   4  25.75   \n",
       "1    21.5447  26.27  2010-07-12          1       0.0  26.39  15  26.03   \n",
       "2    22.0204  26.85  2010-07-13         -1       0.0  26.95  26  26.46   \n",
       "3    21.8236  26.61  2010-07-14          1       0.0  26.81  37  26.42   \n",
       "4    21.9712  26.79  2010-07-15         -1       0.0  26.91  48  26.25   \n",
       "\n",
       "   next_close  open_amt     roc      rsi    slowd    slowk      sma  split  \\\n",
       "0       26.27     25.97 -1.3168  50.3306  69.5356  85.7936  25.6100    1.0   \n",
       "1       26.85     26.10 -0.5678  50.6905  79.1860  81.3300  25.5993    1.0   \n",
       "2       26.61     26.48  2.2857  55.7029  84.8294  87.3645  25.6421    1.0   \n",
       "3       26.79     26.63  1.8760  53.2890  84.2320  84.0016  25.6771    1.0   \n",
       "4       25.73     26.54  4.9765  54.8687  85.2791  84.4712  25.7679    1.0   \n",
       "\n",
       "       std ticker    volume    willr  \n",
       "0  0.99445     BK   5400600 -24.4604  \n",
       "1  0.97630     BK   4736900 -18.0077  \n",
       "2  1.06420     BK  10718800  -3.5461  \n",
       "3  1.11515     BK   7324900 -12.0567  \n",
       "4  1.19165     BK   8062300  -5.6738  "
      ]
     },
     "execution_count": 92,
     "metadata": {},
     "output_type": "execute_result"
    }
   ],
   "source": [
    "\n",
    "url = f\"http://magic-stocks.herokuapp.com/api/v1/metrics/{name}\"\n",
    "\n",
    "#url=\"https://cors-anywhere.herokuapp.com/magic-stocks.herokuapp.com/api/v1/metrics/aapl\"\n",
    "response = requests.get(url).json()\n",
    "aapl = pd.DataFrame(response)\n",
    "aapl.head()"
   ]
  },
  {
   "cell_type": "code",
   "execution_count": 93,
   "metadata": {},
   "outputs": [],
   "source": [
    "#Sort the dataset on date time and filter “Date” and “Close” columns:\n",
    "\n",
    "df=aapl[['date', 'high', 'low', 'close','volume']]\n",
    "data=df.sort_index(ascending=True,axis=0)\n",
    "new_dataset=pd.DataFrame(index=range(0,len(df)),columns=['date','close'])\n",
    "for i in range(0,len(data)):\n",
    "    new_dataset[\"date\"][i]=data['date'][i]\n",
    "    new_dataset[\"close\"][i]=data[\"close\"][i]"
   ]
  },
  {
   "cell_type": "code",
   "execution_count": 94,
   "metadata": {},
   "outputs": [],
   "source": [
    "new_dataset.drop(\"date\",axis=1,inplace=True)\n"
   ]
  },
  {
   "cell_type": "code",
   "execution_count": 95,
   "metadata": {},
   "outputs": [],
   "source": [
    "#Normalize the new filtered datasetand split data to train and test dataset:\n",
    "scaler=MinMaxScaler(feature_range=(0,1))\n",
    "final_dataset=new_dataset.values\n",
    "train_data=final_dataset[0:1200,:]\n",
    "valid_data=final_dataset[1200:,:]\n",
    "#new_dataset.set_index('date',inplace=True)\n",
    "#new_dataset.drop(\"date\",axis=1,inplace=True)\n",
    "scaler=MinMaxScaler(feature_range=(0,1))\n",
    "scaled_data=scaler.fit_transform(final_dataset)\n",
    "x_train_data,y_train_data=[],[]\n",
    "for i in range(60,len(train_data)):\n",
    "    x_train_data.append(scaled_data[i-60:i,0])\n",
    "    y_train_data.append(scaled_data[i,0])\n",
    "    \n",
    "x_train_data,y_train_data=np.array(x_train_data),np.array(y_train_data)\n",
    "x_train_data=np.reshape(x_train_data,(x_train_data.shape[0],x_train_data.shape[1],1))"
   ]
  },
  {
   "cell_type": "code",
   "execution_count": 96,
   "metadata": {},
   "outputs": [
    {
     "data": {
      "text/plain": [
       "array([0.20898821, 0.2151277 , 0.22372299, ..., 0.5709725 , 0.57367387,\n",
       "       0.57539293])"
      ]
     },
     "execution_count": 96,
     "metadata": {},
     "output_type": "execute_result"
    }
   ],
   "source": [
    "y_train_data"
   ]
  },
  {
   "cell_type": "code",
   "execution_count": 97,
   "metadata": {},
   "outputs": [
    {
     "name": "stdout",
     "output_type": "stream",
     "text": [
      "Epoch 1/1\n",
      " - 133s - loss: 0.0012\n"
     ]
    },
    {
     "data": {
      "text/plain": [
       "<keras.callbacks.callbacks.History at 0x1a4cf93290>"
      ]
     },
     "execution_count": 97,
     "metadata": {},
     "output_type": "execute_result"
    }
   ],
   "source": [
    "#Build and train the LSTM model:\n",
    "lstm_model=Sequential()\n",
    "lstm_model.add(LSTM(units=50,return_sequences=True,input_shape=(x_train_data.shape[1],1)))\n",
    "lstm_model.add(LSTM(units=50))\n",
    "lstm_model.add(Dense(1))\n",
    "inputs_data=new_dataset[len(new_dataset)-len(valid_data)-60:].values\n",
    "inputs_data=inputs_data.reshape(-1,1)\n",
    "inputs_data=scaler.transform(inputs_data)\n",
    "lstm_model.compile(loss='mean_squared_error',optimizer='adam')\n",
    "lstm_model.fit(x_train_data,y_train_data,epochs=1,batch_size=1,verbose=2)"
   ]
  },
  {
   "cell_type": "code",
   "execution_count": 98,
   "metadata": {},
   "outputs": [],
   "source": [
    "#Take a sample of a dataset to make stock price predictions using the LSTM model:\n",
    "X_test=[]\n",
    "for i in range(60,inputs_data.shape[0]):\n",
    "    X_test.append(inputs_data[i-60:i,0])\n",
    "X_test=np.array(X_test)\n",
    "X_test=np.reshape(X_test,(X_test.shape[0],X_test.shape[1],1))\n",
    "predicted_closing_price=lstm_model.predict(X_test)\n",
    "predicted_closing_price=scaler.inverse_transform(predicted_closing_price)"
   ]
  },
  {
   "cell_type": "code",
   "execution_count": 99,
   "metadata": {},
   "outputs": [
    {
     "data": {
      "text/plain": [
       "(1378, 1)"
      ]
     },
     "execution_count": 99,
     "metadata": {},
     "output_type": "execute_result"
    }
   ],
   "source": [
    "valid_data.shape\n",
    "inputs_data.shape"
   ]
  },
  {
   "cell_type": "code",
   "execution_count": 100,
   "metadata": {},
   "outputs": [],
   "source": [
    "#Take a sample of a dataset to make stock price predictions using the LSTM model:\n",
    "X_test=[]\n",
    "for i in range(60,inputs_data.shape[0]):\n",
    "    X_test.append(inputs_data[i-60:i,0])\n",
    "X_test=np.array(X_test)\n",
    "X_test=np.reshape(X_test,(X_test.shape[0],X_test.shape[1],1))\n",
    "predicted_closing_price=lstm_model.predict(X_test)\n",
    "predicted_closing_price=scaler.inverse_transform(predicted_closing_price)"
   ]
  },
  {
   "cell_type": "code",
   "execution_count": 101,
   "metadata": {},
   "outputs": [
    {
     "name": "stdout",
     "output_type": "stream",
     "text": [
      "Saved model to disk\n"
     ]
    }
   ],
   "source": [
    "# serialize model to JSON\n",
    "model_json = lstm_model.to_json()\n",
    "with open(f\"{name}_model.json\", \"w\") as json_file:\n",
    "    json_file.write(model_json)\n",
    "# serialize weights to HDF5\n",
    "lstm_model.save_weights(f\"{name}_model.h5\")\n",
    "print(\"Saved model to disk\")"
   ]
  },
  {
   "cell_type": "code",
   "execution_count": 102,
   "metadata": {},
   "outputs": [
    {
     "name": "stderr",
     "output_type": "stream",
     "text": [
      "/Users/jadetao/opt/anaconda3/lib/python3.7/site-packages/ipykernel_launcher.py:3: SettingWithCopyWarning: \n",
      "A value is trying to be set on a copy of a slice from a DataFrame.\n",
      "Try using .loc[row_indexer,col_indexer] = value instead\n",
      "\n",
      "See the caveats in the documentation: http://pandas.pydata.org/pandas-docs/stable/user_guide/indexing.html#returning-a-view-versus-a-copy\n",
      "  This is separate from the ipykernel package so we can avoid doing imports until\n"
     ]
    },
    {
     "data": {
      "image/png": "[encoded data removed]",
      "text/plain": [
       "<Figure size 1152x576 with 1 Axes>"
      ]
     },
     "metadata": {
      "needs_background": "light"
     },
     "output_type": "display_data"
    }
   ],
   "source": [
    "train_data=new_dataset[:1200]\n",
    "valid_data=new_dataset[1200:]\n",
    "valid_data['Predictions']=predicted_closing_price\n",
    "plt.figure(figsize=(16,8))\n",
    "plt.plot(train_data[\"close\"])\n",
    "plt.plot(valid_data[['close',\"Predictions\"]])\n",
    "plt.savefig(f'{name}_plot.png',dpi=300)\n",
    "plt.show()"
   ]
  },
  {
   "cell_type": "code",
   "execution_count": null,
   "metadata": {},
   "outputs": [],
   "source": []
  },
  {
   "cell_type": "code",
   "execution_count": null,
   "metadata": {},
   "outputs": [],
   "source": []
  },
  {
   "cell_type": "code",
   "execution_count": null,
   "metadata": {},
   "outputs": [],
   "source": []
  },
  {
   "cell_type": "code",
   "execution_count": null,
   "metadata": {},
   "outputs": [],
   "source": []
  }
 ],
 "metadata": {
  "kernelspec": {
   "display_name": "Python 3",
   "language": "python",
   "name": "python3"
  },
  "language_info": {
   "codemirror_mode": {
    "name": "ipython",
    "version": 3
   },
   "file_extension": ".py",
   "mimetype": "text/x-python",
   "name": "python",
   "nbconvert_exporter": "python",
   "pygments_lexer": "ipython3",
   "version": "3.7.4"
  }
 },
 "nbformat": 4,
 "nbformat_minor": 2
}
