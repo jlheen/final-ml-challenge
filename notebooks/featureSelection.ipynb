{
 "cells": [
  {
   "cell_type": "code",
   "execution_count": 2,
   "metadata": {
    "colab": {
     "base_uri": "https://localhost:8080/",
     "height": 71
    },
    "colab_type": "code",
    "executionInfo": {
     "elapsed": 2663,
     "status": "ok",
     "timestamp": 1594752284588,
     "user": {
      "displayName": "yy T",
      "photoUrl": "",
      "userId": "03620613673408240639"
     },
     "user_tz": 300
    },
    "id": "Jx5uq05PyYms",
    "outputId": "51ed46a1-d7a0-4387-9a05-8cd80af3a2e5"
   },
   "outputs": [],
   "source": [
    "##########################################################################\n",
    "#Features selection for machine learning models to predict stock movement\n",
    "#\n",
    "#########################################################################\n",
    "\n",
    "import matplotlib.pyplot as plt\n",
    "import pandas as pd\n",
    "import datetime as dt\n",
    "import os\n",
    "import numpy as np\n",
    "import tensorflow as tf \n",
    "from sklearn.neighbors import KNeighborsClassifier\n",
    "from sklearn.preprocessing import MinMaxScaler"
   ]
  },
  {
   "cell_type": "code",
   "execution_count": 3,
   "metadata": {},
   "outputs": [
    {
     "data": {
      "text/html": [
       "<div>\n",
       "<style scoped>\n",
       "    .dataframe tbody tr th:only-of-type {\n",
       "        vertical-align: middle;\n",
       "    }\n",
       "\n",
       "    .dataframe tbody tr th {\n",
       "        vertical-align: top;\n",
       "    }\n",
       "\n",
       "    .dataframe thead th {\n",
       "        text-align: right;\n",
       "    }\n",
       "</style>\n",
       "<table border=\"1\" class=\"dataframe\">\n",
       "  <thead>\n",
       "    <tr style=\"text-align: right;\">\n",
       "      <th></th>\n",
       "      <th>s_date</th>\n",
       "      <th>s_adj_close</th>\n",
       "      <th>s_sma</th>\n",
       "      <th>s_rsi</th>\n",
       "      <th>s_slowd</th>\n",
       "      <th>s_slowk</th>\n",
       "      <th>s_roc</th>\n",
       "      <th>s_willr</th>\n",
       "      <th>s_std</th>\n",
       "      <th>s_mom</th>\n",
       "      <th>s_adx</th>\n",
       "      <th>s_obv</th>\n",
       "      <th>s_atr</th>\n",
       "      <th>s_cci</th>\n",
       "      <th>s_macd</th>\n",
       "      <th>s_trix</th>\n",
       "    </tr>\n",
       "  </thead>\n",
       "  <tbody>\n",
       "    <tr>\n",
       "      <td>0</td>\n",
       "      <td>2010-07-09</td>\n",
       "      <td>88.2266</td>\n",
       "      <td>106.3943</td>\n",
       "      <td>50.6201</td>\n",
       "      <td>73.0817</td>\n",
       "      <td>98.4491</td>\n",
       "      <td>-3.3742</td>\n",
       "      <td>-43.4134</td>\n",
       "      <td>4.18525</td>\n",
       "      <td>-3.77</td>\n",
       "      <td>31.8911</td>\n",
       "      <td>2.712688e+09</td>\n",
       "      <td>2.1703</td>\n",
       "      <td>31.2417</td>\n",
       "      <td>-1.4158</td>\n",
       "      <td>-0.2092</td>\n",
       "    </tr>\n",
       "    <tr>\n",
       "      <td>1</td>\n",
       "      <td>2010-07-12</td>\n",
       "      <td>88.2838</td>\n",
       "      <td>106.1529</td>\n",
       "      <td>50.8352</td>\n",
       "      <td>90.3016</td>\n",
       "      <td>98.1965</td>\n",
       "      <td>-3.0338</td>\n",
       "      <td>-35.9331</td>\n",
       "      <td>3.71105</td>\n",
       "      <td>-3.38</td>\n",
       "      <td>30.3314</td>\n",
       "      <td>2.843649e+09</td>\n",
       "      <td>2.0931</td>\n",
       "      <td>49.0562</td>\n",
       "      <td>-1.1685</td>\n",
       "      <td>-0.1989</td>\n",
       "    </tr>\n",
       "    <tr>\n",
       "      <td>2</td>\n",
       "      <td>2010-07-13</td>\n",
       "      <td>89.6158</td>\n",
       "      <td>106.1593</td>\n",
       "      <td>55.6767</td>\n",
       "      <td>97.8217</td>\n",
       "      <td>96.8195</td>\n",
       "      <td>0.0821</td>\n",
       "      <td>-4.7991</td>\n",
       "      <td>3.72450</td>\n",
       "      <td>0.09</td>\n",
       "      <td>28.4013</td>\n",
       "      <td>3.056193e+09</td>\n",
       "      <td>2.0907</td>\n",
       "      <td>106.0754</td>\n",
       "      <td>-0.8314</td>\n",
       "      <td>-0.1811</td>\n",
       "    </tr>\n",
       "    <tr>\n",
       "      <td>3</td>\n",
       "      <td>2010-07-14</td>\n",
       "      <td>89.6077</td>\n",
       "      <td>106.1893</td>\n",
       "      <td>55.6405</td>\n",
       "      <td>96.1264</td>\n",
       "      <td>93.3633</td>\n",
       "      <td>0.3845</td>\n",
       "      <td>-4.9107</td>\n",
       "      <td>3.78325</td>\n",
       "      <td>0.42</td>\n",
       "      <td>26.5727</td>\n",
       "      <td>2.871863e+09</td>\n",
       "      <td>2.0285</td>\n",
       "      <td>103.6809</td>\n",
       "      <td>-0.5586</td>\n",
       "      <td>-0.1588</td>\n",
       "    </tr>\n",
       "    <tr>\n",
       "      <td>4</td>\n",
       "      <td>2010-07-15</td>\n",
       "      <td>89.6322</td>\n",
       "      <td>106.3507</td>\n",
       "      <td>55.7335</td>\n",
       "      <td>93.4406</td>\n",
       "      <td>90.1390</td>\n",
       "      <td>2.1039</td>\n",
       "      <td>-4.5759</td>\n",
       "      <td>3.99615</td>\n",
       "      <td>2.26</td>\n",
       "      <td>24.8394</td>\n",
       "      <td>3.103545e+09</td>\n",
       "      <td>2.0186</td>\n",
       "      <td>89.5847</td>\n",
       "      <td>-0.3362</td>\n",
       "      <td>-0.1343</td>\n",
       "    </tr>\n",
       "  </tbody>\n",
       "</table>\n",
       "</div>"
      ],
      "text/plain": [
       "       s_date  s_adj_close     s_sma    s_rsi  s_slowd  s_slowk   s_roc  \\\n",
       "0  2010-07-09      88.2266  106.3943  50.6201  73.0817  98.4491 -3.3742   \n",
       "1  2010-07-12      88.2838  106.1529  50.8352  90.3016  98.1965 -3.0338   \n",
       "2  2010-07-13      89.6158  106.1593  55.6767  97.8217  96.8195  0.0821   \n",
       "3  2010-07-14      89.6077  106.1893  55.6405  96.1264  93.3633  0.3845   \n",
       "4  2010-07-15      89.6322  106.3507  55.7335  93.4406  90.1390  2.1039   \n",
       "\n",
       "   s_willr    s_std  s_mom    s_adx         s_obv   s_atr     s_cci  s_macd  \\\n",
       "0 -43.4134  4.18525  -3.77  31.8911  2.712688e+09  2.1703   31.2417 -1.4158   \n",
       "1 -35.9331  3.71105  -3.38  30.3314  2.843649e+09  2.0931   49.0562 -1.1685   \n",
       "2  -4.7991  3.72450   0.09  28.4013  3.056193e+09  2.0907  106.0754 -0.8314   \n",
       "3  -4.9107  3.78325   0.42  26.5727  2.871863e+09  2.0285  103.6809 -0.5586   \n",
       "4  -4.5759  3.99615   2.26  24.8394  3.103545e+09  2.0186   89.5847 -0.3362   \n",
       "\n",
       "   s_trix  \n",
       "0 -0.2092  \n",
       "1 -0.1989  \n",
       "2 -0.1811  \n",
       "3 -0.1588  \n",
       "4 -0.1343  "
      ]
     },
     "execution_count": 3,
     "metadata": {},
     "output_type": "execute_result"
    }
   ],
   "source": [
    "#read spy&500 technical indicators data and add a prefic s_ to each column name.\n",
    "file_path=\"./retrieveData/data\"\n",
    "spy = = pd.read_csv(os.path.join(file_path,\"spy.csv\"))\n",
    "spy.head()\n",
    "spyi=spy[['date','adj_close', 'sma', 'rsi', 'slowd',\n",
    "       'slowk', 'roc', 'willr', 'std', 'mom', 'adx', 'obv', 'atr', 'cci',\n",
    "       'macd', 'trix']]\n",
    "spyidx=spyi.add_prefix('s_')\n",
    "spyidx.head()"
   ]
  },
  {
   "cell_type": "code",
   "execution_count": 4,
   "metadata": {},
   "outputs": [
    {
     "data": {
      "text/html": [
       "<div>\n",
       "<style scoped>\n",
       "    .dataframe tbody tr th:only-of-type {\n",
       "        vertical-align: middle;\n",
       "    }\n",
       "\n",
       "    .dataframe tbody tr th {\n",
       "        vertical-align: top;\n",
       "    }\n",
       "\n",
       "    .dataframe thead th {\n",
       "        text-align: right;\n",
       "    }\n",
       "</style>\n",
       "<table border=\"1\" class=\"dataframe\">\n",
       "  <thead>\n",
       "    <tr style=\"text-align: right;\">\n",
       "      <th></th>\n",
       "      <th>Unnamed: 0</th>\n",
       "      <th>ticker</th>\n",
       "      <th>date</th>\n",
       "      <th>open</th>\n",
       "      <th>high</th>\n",
       "      <th>low</th>\n",
       "      <th>close</th>\n",
       "      <th>volume</th>\n",
       "      <th>dividend</th>\n",
       "      <th>split</th>\n",
       "      <th>...</th>\n",
       "      <th>std</th>\n",
       "      <th>mom</th>\n",
       "      <th>adx</th>\n",
       "      <th>obv</th>\n",
       "      <th>atr</th>\n",
       "      <th>cci</th>\n",
       "      <th>macd</th>\n",
       "      <th>trix</th>\n",
       "      <th>next_close</th>\n",
       "      <th>direction</th>\n",
       "    </tr>\n",
       "  </thead>\n",
       "  <tbody>\n",
       "    <tr>\n",
       "      <td>0</td>\n",
       "      <td>0</td>\n",
       "      <td>KO</td>\n",
       "      <td>2010-07-09</td>\n",
       "      <td>52.36</td>\n",
       "      <td>52.49</td>\n",
       "      <td>52.07</td>\n",
       "      <td>52.40</td>\n",
       "      <td>6474000</td>\n",
       "      <td>0.0</td>\n",
       "      <td>1.0</td>\n",
       "      <td>...</td>\n",
       "      <td>1.48560</td>\n",
       "      <td>0.09</td>\n",
       "      <td>22.9753</td>\n",
       "      <td>233789100.0</td>\n",
       "      <td>0.8664</td>\n",
       "      <td>77.0709</td>\n",
       "      <td>-0.1867</td>\n",
       "      <td>-0.0959</td>\n",
       "      <td>52.45</td>\n",
       "      <td>1.0</td>\n",
       "    </tr>\n",
       "    <tr>\n",
       "      <td>1</td>\n",
       "      <td>1</td>\n",
       "      <td>KO</td>\n",
       "      <td>2010-07-12</td>\n",
       "      <td>52.16</td>\n",
       "      <td>52.47</td>\n",
       "      <td>51.95</td>\n",
       "      <td>52.45</td>\n",
       "      <td>5385300</td>\n",
       "      <td>0.0</td>\n",
       "      <td>1.0</td>\n",
       "      <td>...</td>\n",
       "      <td>1.48160</td>\n",
       "      <td>-0.03</td>\n",
       "      <td>21.3439</td>\n",
       "      <td>239174400.0</td>\n",
       "      <td>0.8416</td>\n",
       "      <td>78.4183</td>\n",
       "      <td>-0.0861</td>\n",
       "      <td>-0.0809</td>\n",
       "      <td>52.72</td>\n",
       "      <td>1.0</td>\n",
       "    </tr>\n",
       "    <tr>\n",
       "      <td>2</td>\n",
       "      <td>2</td>\n",
       "      <td>KO</td>\n",
       "      <td>2010-07-13</td>\n",
       "      <td>52.74</td>\n",
       "      <td>52.95</td>\n",
       "      <td>52.60</td>\n",
       "      <td>52.72</td>\n",
       "      <td>6853200</td>\n",
       "      <td>0.0</td>\n",
       "      <td>1.0</td>\n",
       "      <td>...</td>\n",
       "      <td>1.51865</td>\n",
       "      <td>0.26</td>\n",
       "      <td>20.4375</td>\n",
       "      <td>246027600.0</td>\n",
       "      <td>0.8172</td>\n",
       "      <td>112.6781</td>\n",
       "      <td>0.0152</td>\n",
       "      <td>-0.0626</td>\n",
       "      <td>52.82</td>\n",
       "      <td>1.0</td>\n",
       "    </tr>\n",
       "    <tr>\n",
       "      <td>3</td>\n",
       "      <td>3</td>\n",
       "      <td>KO</td>\n",
       "      <td>2010-07-14</td>\n",
       "      <td>52.56</td>\n",
       "      <td>52.92</td>\n",
       "      <td>52.42</td>\n",
       "      <td>52.82</td>\n",
       "      <td>6196300</td>\n",
       "      <td>0.0</td>\n",
       "      <td>1.0</td>\n",
       "      <td>...</td>\n",
       "      <td>1.59280</td>\n",
       "      <td>0.58</td>\n",
       "      <td>19.3374</td>\n",
       "      <td>252223900.0</td>\n",
       "      <td>0.7946</td>\n",
       "      <td>103.5467</td>\n",
       "      <td>0.1025</td>\n",
       "      <td>-0.0425</td>\n",
       "      <td>52.85</td>\n",
       "      <td>1.0</td>\n",
       "    </tr>\n",
       "    <tr>\n",
       "      <td>4</td>\n",
       "      <td>4</td>\n",
       "      <td>KO</td>\n",
       "      <td>2010-07-15</td>\n",
       "      <td>52.72</td>\n",
       "      <td>52.95</td>\n",
       "      <td>52.32</td>\n",
       "      <td>52.85</td>\n",
       "      <td>7485300</td>\n",
       "      <td>0.0</td>\n",
       "      <td>1.0</td>\n",
       "      <td>...</td>\n",
       "      <td>1.69290</td>\n",
       "      <td>1.05</td>\n",
       "      <td>18.1694</td>\n",
       "      <td>259709200.0</td>\n",
       "      <td>0.7828</td>\n",
       "      <td>92.7632</td>\n",
       "      <td>0.1720</td>\n",
       "      <td>-0.0220</td>\n",
       "      <td>52.37</td>\n",
       "      <td>-1.0</td>\n",
       "    </tr>\n",
       "  </tbody>\n",
       "</table>\n",
       "<p>5 rows × 27 columns</p>\n",
       "</div>"
      ],
      "text/plain": [
       "   Unnamed: 0 ticker        date   open   high    low  close   volume  \\\n",
       "0           0     KO  2010-07-09  52.36  52.49  52.07  52.40  6474000   \n",
       "1           1     KO  2010-07-12  52.16  52.47  51.95  52.45  5385300   \n",
       "2           2     KO  2010-07-13  52.74  52.95  52.60  52.72  6853200   \n",
       "3           3     KO  2010-07-14  52.56  52.92  52.42  52.82  6196300   \n",
       "4           4     KO  2010-07-15  52.72  52.95  52.32  52.85  7485300   \n",
       "\n",
       "   dividend  split  ...      std   mom      adx          obv     atr  \\\n",
       "0       0.0    1.0  ...  1.48560  0.09  22.9753  233789100.0  0.8664   \n",
       "1       0.0    1.0  ...  1.48160 -0.03  21.3439  239174400.0  0.8416   \n",
       "2       0.0    1.0  ...  1.51865  0.26  20.4375  246027600.0  0.8172   \n",
       "3       0.0    1.0  ...  1.59280  0.58  19.3374  252223900.0  0.7946   \n",
       "4       0.0    1.0  ...  1.69290  1.05  18.1694  259709200.0  0.7828   \n",
       "\n",
       "        cci    macd    trix  next_close  direction  \n",
       "0   77.0709 -0.1867 -0.0959       52.45        1.0  \n",
       "1   78.4183 -0.0861 -0.0809       52.72        1.0  \n",
       "2  112.6781  0.0152 -0.0626       52.82        1.0  \n",
       "3  103.5467  0.1025 -0.0425       52.85        1.0  \n",
       "4   92.7632  0.1720 -0.0220       52.37       -1.0  \n",
       "\n",
       "[5 rows x 27 columns]"
      ]
     },
     "execution_count": 4,
     "metadata": {},
     "output_type": "execute_result"
    }
   ],
   "source": [
    "#read a company daily stock prices and technical indicators\n",
    "ticker='KO'\n",
    "data = pd.read_csv(os.path.join(file_path,f\"{ticker}.csv\"))\n",
    "data.head()"
   ]
  },
  {
   "cell_type": "code",
   "execution_count": 14,
   "metadata": {},
   "outputs": [
    {
     "data": {
      "text/plain": [
       "Index(['Unnamed: 0', 'ticker', 'date', 'open', 'high', 'low', 'close',\n",
       "       'volume', 'dividend', 'split', 'adj_close', 'sma', 'rsi', 'slowd',\n",
       "       'slowk', 'roc', 'willr', 'std', 'mom', 'adx', 'obv', 'atr', 'cci',\n",
       "       'macd', 'trix', 'next_close', 'direction', 's_date', 's_adj_close',\n",
       "       's_sma', 's_rsi', 's_slowd', 's_slowk', 's_roc', 's_willr', 's_std',\n",
       "       's_mom', 's_adx', 's_obv', 's_atr', 's_cci', 's_macd', 's_trix', 'day'],\n",
       "      dtype='object')"
      ]
     },
     "execution_count": 14,
     "metadata": {},
     "output_type": "execute_result"
    }
   ],
   "source": [
    "# merge two datasets\n",
    "mixDt=pd.concat([data,spyidx],axis=1)\n",
    "mixDt['day']=mixDt.index\n",
    "mixDt=mixDt.iloc[:-1]\n",
    "mixDt.columns"
   ]
  },
  {
   "cell_type": "code",
   "execution_count": 15,
   "metadata": {},
   "outputs": [],
   "source": [
    "#create future close price for next 3,7,10,14 days\n",
    "mixDt['next3']=mixDt['close'].shift(-3)\n",
    "mixDt['next7']=mixDt['close'].shift(-7)\n",
    "mixDt['next10']=mixDt['close'].shift(-10)\n",
    "mixDt['next14']=mixDt['close'].shift(-14)\n",
    "mixDt=mixDt.iloc[:-14]"
   ]
  },
  {
   "cell_type": "code",
   "execution_count": null,
   "metadata": {},
   "outputs": [],
   "source": [
    "#create future close price direction for next3 days\n",
    "mixDt.loc[(mixDt['next3']-mixDt['close']) >0, 'direction3'] = '1' \n",
    "mixDt.loc[(mixDt['next3']-mixDt['close']) <=0, 'direction3'] = '0' \n",
    "mixDt['direction3']=mixDt['direction3'].astype(int)"
   ]
  },
  {
   "cell_type": "code",
   "execution_count": 16,
   "metadata": {},
   "outputs": [],
   "source": [
    "#create future close price direction for next7 days\n",
    "mixDt.loc[(mixDt['next7']-mixDt['close']) >0, 'direction7'] = '1' \n",
    "mixDt.loc[(mixDt['next7']-mixDt['close']) <=0, 'direction7'] = '0' \n",
    "mixDt['direction7']=mixDt['direction7'].astype(int)"
   ]
  },
  {
   "cell_type": "code",
   "execution_count": 17,
   "metadata": {},
   "outputs": [],
   "source": [
    "#create future close price direction for next14 days\n",
    "mixDt.loc[(mixDt['next14']-mixDt['close']) >0, 'direction14'] = '1' \n",
    "mixDt.loc[(mixDt['next14']-mixDt['close']) <=0, 'direction14'] = '0' \n",
    "mixDt['direction14']=mixDt['direction14'].astype(int)"
   ]
  },
  {
   "cell_type": "code",
   "execution_count": 18,
   "metadata": {},
   "outputs": [],
   "source": [
    "#create future close price direction for next10 days\n",
    "mixDt.loc[(mixDt['next10']-mixDt['close']) >0, 'direction10'] = '1' \n",
    "mixDt.loc[(mixDt['next10']-mixDt['close']) <=0, 'direction10'] = '0' \n",
    "mixDt['direction10']=mixDt['direction10'].astype(int)"
   ]
  },
  {
   "cell_type": "code",
   "execution_count": 20,
   "metadata": {
    "scrolled": false
   },
   "outputs": [
    {
     "data": {
      "text/plain": [
       "Unnamed: 0     0\n",
       "ticker         0\n",
       "date           0\n",
       "open           0\n",
       "high           0\n",
       "low            0\n",
       "close          0\n",
       "volume         0\n",
       "dividend       0\n",
       "split          0\n",
       "adj_close      0\n",
       "sma            0\n",
       "rsi            0\n",
       "slowd          0\n",
       "slowk          0\n",
       "roc            0\n",
       "willr          0\n",
       "std            0\n",
       "mom            0\n",
       "adx            0\n",
       "obv            0\n",
       "atr            0\n",
       "cci            0\n",
       "macd           0\n",
       "trix           0\n",
       "next_close     0\n",
       "direction      0\n",
       "s_date         0\n",
       "s_adj_close    0\n",
       "s_sma          0\n",
       "s_rsi          0\n",
       "s_slowd        0\n",
       "s_slowk        0\n",
       "s_roc          0\n",
       "s_willr        0\n",
       "s_std          0\n",
       "s_mom          0\n",
       "s_adx          0\n",
       "s_obv          0\n",
       "s_atr          0\n",
       "s_cci          0\n",
       "s_macd         0\n",
       "s_trix         0\n",
       "day            0\n",
       "next3          0\n",
       "next7          0\n",
       "next10         0\n",
       "next14         0\n",
       "direction7     0\n",
       "direction14    0\n",
       "direction10    0\n",
       "dtype: int64"
      ]
     },
     "execution_count": 20,
     "metadata": {},
     "output_type": "execute_result"
    }
   ],
   "source": [
    "#check any NA values in any column\n",
    "mixDt.isnull().sum()"
   ]
  },
  {
   "cell_type": "code",
   "execution_count": 21,
   "metadata": {
    "scrolled": true
   },
   "outputs": [
    {
     "data": {
      "text/plain": [
       "Unnamed: 0               0\n",
       "ticker                  KO\n",
       "date            2010-07-09\n",
       "open                 35.88\n",
       "high                 36.28\n",
       "low                  35.58\n",
       "close                35.97\n",
       "volume             2447423\n",
       "dividend                 0\n",
       "split                    1\n",
       "adj_close          19.1931\n",
       "sma                36.6736\n",
       "rsi                 8.3237\n",
       "slowd               1.4318\n",
       "slowk                   -0\n",
       "roc                -52.862\n",
       "willr                 -100\n",
       "std                 0.1603\n",
       "mom                 -42.72\n",
       "adx                 7.5074\n",
       "obv            2.33789e+08\n",
       "atr                 0.3175\n",
       "cci               -466.667\n",
       "macd              -10.9051\n",
       "trix               -2.4384\n",
       "next_close           35.97\n",
       "direction               -1\n",
       "s_date          2010-07-09\n",
       "s_adj_close        85.9956\n",
       "s_sma              106.153\n",
       "s_rsi              16.7009\n",
       "s_slowd             2.8484\n",
       "s_slowk             1.6746\n",
       "s_roc             -25.9763\n",
       "s_willr               -100\n",
       "s_std               0.4472\n",
       "s_mom               -85.37\n",
       "s_adx               8.6272\n",
       "s_obv          8.12348e+08\n",
       "s_atr               0.9239\n",
       "s_cci             -352.544\n",
       "s_macd            -23.7868\n",
       "s_trix             -1.0487\n",
       "day                      0\n",
       "next3                35.97\n",
       "next7                35.97\n",
       "next10               35.97\n",
       "next14               35.97\n",
       "direction7               0\n",
       "direction14              0\n",
       "direction10              0\n",
       "dtype: object"
      ]
     },
     "execution_count": 21,
     "metadata": {},
     "output_type": "execute_result"
    }
   ],
   "source": [
    "#check which colums with begative values\n",
    "mixDt.min()"
   ]
  },
  {
   "cell_type": "code",
   "execution_count": 22,
   "metadata": {
    "colab": {},
    "colab_type": "code",
    "executionInfo": {
     "elapsed": 756,
     "status": "ok",
     "timestamp": 1594752953054,
     "user": {
      "displayName": "yy T",
      "photoUrl": "",
      "userId": "03620613673408240639"
     },
     "user_tz": 300
    },
    "id": "oVsmdqo_pmGC"
   },
   "outputs": [],
   "source": [
    "#create list of features, and output target \n",
    "target_column = ['direction7'] \n",
    "predictors = ['open', 'high', 'low', 'close',\n",
    "       'volume', 'adj_close', 'sma', 'rsi', 'slowd',\n",
    "       'slowk', 'roc', 'willr', 'std', 'mom', 'adx', 'obv', 'atr', 'cci',\n",
    "       'macd', 'trix', 's_adj_close',\n",
    "       's_sma', 's_rsi', 's_slowd', 's_slowk', 's_roc', 's_willr', 's_std',\n",
    "       's_mom', 's_adx', 's_obv', 's_atr', 's_cci', 's_macd', 's_trix', 'day']\n",
    "non_NegF= ['open', 'high', 'low', 'close',\n",
    "       'volume', 'dividend', 'split', 'adj_close', 'sma', 'rsi', 'slowd',\n",
    "       'slowk', 'std', 'adx', 'obv', 'atr',  's_adj_close',\n",
    "       's_sma', 's_rsi', 's_slowd', 's_slowk', 's_std',\n",
    "        's_adx', 's_obv', 's_atr', 'day']"
   ]
  },
  {
   "cell_type": "raw",
   "metadata": {},
   "source": [
    "Num Features: 20 selected after logistic regression\n",
    "Selected Features: [ True  True  True  True  True  True  True  True  True False  True  True\n",
    " False  True  True  True  True  True False  True False False False  True\n",
    "  True  True]\n",
    "Feature Ranking: [1 1 1 1 1 1 1 1 1 2 1 1 7 1 1 1 1 1 6 1 3 5 4 1 1 1]\n",
    "20 selected features= ['open', 'high', 'low', 'close',\n",
    "       'volume', 'adj_close', 'sma', 'rsi', 'slowd',\n",
    "    'adx',  'atr',  's_adj_close',\n",
    "       's_sma', 's_rsi', 's_slowd', 's_slowk', 's_willr', 's_obv', 's_cci', 'day']\n",
    "       \n",
    "Num Features: 10\n",
    "Selected Features: [ True  True  True  True  True False False  True  True False False False\n",
    " False False False False False  True False False False False False False\n",
    " False False False False False False False False  True False False False\n",
    " False  True]\n",
    "Feature Ranking: [ 1  1  1  1  1 29 28  1  1 10 11  7 18  4 16 17 14  1 15  2 19 26  9 13\n",
    " 12  5  8 23  6 20 21 25  1 22  3 24 27  1]\n",
    "10 selected features= ['open', 'high', 'low', 'close','volume', 'adj_close', 'sma', 'obv','s_adj_close', 's_slowk','s_cci','day']"
   ]
  },
  {
   "cell_type": "code",
   "execution_count": 23,
   "metadata": {
    "colab": {},
    "colab_type": "code",
    "executionInfo": {
     "elapsed": 470,
     "status": "ok",
     "timestamp": 1594752994673,
     "user": {
      "displayName": "yy T",
      "photoUrl": "",
      "userId": "03620613673408240639"
     },
     "user_tz": 300
    },
    "id": "lHjE8_cqp_zP"
   },
   "outputs": [],
   "source": [
    "#create input X 1 for  feature selection process using chi2, logistic regression,Extremely Randomized Trees method\n",
    "X1 = mixDt[non_NegF].values\n",
    "X2=mixDt[predictors].values\n",
    "Y = mixDt[target_column].values\n"
   ]
  },
  {
   "cell_type": "code",
   "execution_count": 24,
   "metadata": {
    "colab": {},
    "colab_type": "code",
    "executionInfo": {
     "elapsed": 722,
     "status": "ok",
     "timestamp": 1594752543753,
     "user": {
      "displayName": "yy T",
      "photoUrl": "",
      "userId": "03620613673408240639"
     },
     "user_tz": 300
    },
    "id": "2rAl7hCAqJuc"
   },
   "outputs": [],
   "source": [
    "# Import the necessary libraries first\n",
    "from sklearn.feature_selection import SelectKBest\n",
    "from sklearn.feature_selection import chi2"
   ]
  },
  {
   "cell_type": "code",
   "execution_count": 25,
   "metadata": {
    "colab": {
     "base_uri": "https://localhost:8080/",
     "height": 153
    },
    "colab_type": "code",
    "executionInfo": {
     "elapsed": 741,
     "status": "ok",
     "timestamp": 1594753008901,
     "user": {
      "displayName": "yy T",
      "photoUrl": "",
      "userId": "03620613673408240639"
     },
     "user_tz": 300
    },
    "id": "VErpUEw5qJ3l",
    "outputId": "ee7b511d-5c9f-4dfa-98fd-ba1e708b09bd"
   },
   "outputs": [
    {
     "name": "stdout",
     "output_type": "stream",
     "text": [
      "[2.902e+00 2.713e+00 2.890e+00 2.508e+00 7.000e+06 5.666e-01 5.365e-04\n",
      " 3.044e+01 1.853e+00 4.443e+01 1.105e+02 1.497e+02 4.953e+01 1.169e+01\n",
      " 1.369e+09 1.158e+00 1.001e+02 8.620e+01 1.487e+01 2.280e+01 2.744e+01\n",
      " 2.739e+00 3.914e+01 8.088e+09 3.520e+00 1.841e+03]\n",
      "[[6.474e+06 2.338e+08 2.713e+09 0.000e+00]\n",
      " [5.385e+06 2.392e+08 2.844e+09 1.000e+00]\n",
      " [6.853e+06 2.460e+08 3.056e+09 2.000e+00]\n",
      " [6.196e+06 2.522e+08 2.872e+09 3.000e+00]\n",
      " [7.485e+06 2.597e+08 3.104e+09 4.000e+00]]\n"
     ]
    }
   ],
   "source": [
    "# Feature extraction\n",
    "test = SelectKBest(score_func=chi2, k=4)\n",
    "fit = test.fit(X1, Y)\n",
    "\n",
    "# Summarize scores\n",
    "np.set_printoptions(precision=3)\n",
    "print(fit.scores_)\n",
    "\n",
    "features = fit.transform(X1)\n",
    "# Summarize selected features\n",
    "print(features[0:5,:])"
   ]
  },
  {
   "cell_type": "code",
   "execution_count": 27,
   "metadata": {
    "colab": {},
    "colab_type": "code",
    "executionInfo": {
     "elapsed": 773,
     "status": "ok",
     "timestamp": 1594753235425,
     "user": {
      "displayName": "yy T",
      "photoUrl": "",
      "userId": "03620613673408240639"
     },
     "user_tz": 300
    },
    "id": "gy8WPOd7syrn"
   },
   "outputs": [],
   "source": [
    "# Import your necessary dependencies\n",
    "from sklearn.feature_selection import RFE\n",
    "from sklearn.linear_model import LogisticRegression"
   ]
  },
  {
   "cell_type": "code",
   "execution_count": 28,
   "metadata": {
    "colab": {
     "base_uri": "https://localhost:8080/",
     "height": 139
    },
    "colab_type": "code",
    "executionInfo": {
     "elapsed": 457,
     "status": "ok",
     "timestamp": 1594753264462,
     "user": {
      "displayName": "yy T",
      "photoUrl": "",
      "userId": "03620613673408240639"
     },
     "user_tz": 300
    },
    "id": "cMv0M8Ets0QJ",
    "outputId": "d363a255-6bd6-4bf6-8989-3c2a8f845ce1",
    "scrolled": true
   },
   "outputs": [
    {
     "name": "stdout",
     "output_type": "stream",
     "text": [
      "Num Features: 20\n",
      "Selected Features: [ True  True  True  True  True False  True  True False False False  True\n",
      " False False False  True False  True False False  True  True  True  True\n",
      "  True False  True False False  True  True False  True False False  True]\n",
      "Feature Ranking: [ 1  1  1  1  1  4  1  1 10  6  7  1  8 14  3  1 17  1 16 15  1  1  1  1\n",
      "  1  5  1 11  2  1  1 12  1  9 13  1]\n"
     ]
    },
    {
     "name": "stderr",
     "output_type": "stream",
     "text": [
      "/Users/jadetao/opt/anaconda3/lib/python3.7/site-packages/sklearn/utils/validation.py:724: DataConversionWarning: A column-vector y was passed when a 1d array was expected. Please change the shape of y to (n_samples, ), for example using ravel().\n",
      "  y = column_or_1d(y, warn=True)\n",
      "/Users/jadetao/opt/anaconda3/lib/python3.7/site-packages/sklearn/linear_model/logistic.py:432: FutureWarning: Default solver will be changed to 'lbfgs' in 0.22. Specify a solver to silence this warning.\n",
      "  FutureWarning)\n",
      "/Users/jadetao/opt/anaconda3/lib/python3.7/site-packages/sklearn/linear_model/logistic.py:432: FutureWarning: Default solver will be changed to 'lbfgs' in 0.22. Specify a solver to silence this warning.\n",
      "  FutureWarning)\n",
      "/Users/jadetao/opt/anaconda3/lib/python3.7/site-packages/sklearn/linear_model/logistic.py:432: FutureWarning: Default solver will be changed to 'lbfgs' in 0.22. Specify a solver to silence this warning.\n",
      "  FutureWarning)\n",
      "/Users/jadetao/opt/anaconda3/lib/python3.7/site-packages/sklearn/linear_model/logistic.py:432: FutureWarning: Default solver will be changed to 'lbfgs' in 0.22. Specify a solver to silence this warning.\n",
      "  FutureWarning)\n",
      "/Users/jadetao/opt/anaconda3/lib/python3.7/site-packages/sklearn/linear_model/logistic.py:432: FutureWarning: Default solver will be changed to 'lbfgs' in 0.22. Specify a solver to silence this warning.\n",
      "  FutureWarning)\n",
      "/Users/jadetao/opt/anaconda3/lib/python3.7/site-packages/sklearn/linear_model/logistic.py:432: FutureWarning: Default solver will be changed to 'lbfgs' in 0.22. Specify a solver to silence this warning.\n",
      "  FutureWarning)\n",
      "/Users/jadetao/opt/anaconda3/lib/python3.7/site-packages/sklearn/linear_model/logistic.py:432: FutureWarning: Default solver will be changed to 'lbfgs' in 0.22. Specify a solver to silence this warning.\n",
      "  FutureWarning)\n",
      "/Users/jadetao/opt/anaconda3/lib/python3.7/site-packages/sklearn/linear_model/logistic.py:432: FutureWarning: Default solver will be changed to 'lbfgs' in 0.22. Specify a solver to silence this warning.\n",
      "  FutureWarning)\n",
      "/Users/jadetao/opt/anaconda3/lib/python3.7/site-packages/sklearn/linear_model/logistic.py:432: FutureWarning: Default solver will be changed to 'lbfgs' in 0.22. Specify a solver to silence this warning.\n",
      "  FutureWarning)\n",
      "/Users/jadetao/opt/anaconda3/lib/python3.7/site-packages/sklearn/linear_model/logistic.py:432: FutureWarning: Default solver will be changed to 'lbfgs' in 0.22. Specify a solver to silence this warning.\n",
      "  FutureWarning)\n",
      "/Users/jadetao/opt/anaconda3/lib/python3.7/site-packages/sklearn/linear_model/logistic.py:432: FutureWarning: Default solver will be changed to 'lbfgs' in 0.22. Specify a solver to silence this warning.\n",
      "  FutureWarning)\n",
      "/Users/jadetao/opt/anaconda3/lib/python3.7/site-packages/sklearn/linear_model/logistic.py:432: FutureWarning: Default solver will be changed to 'lbfgs' in 0.22. Specify a solver to silence this warning.\n",
      "  FutureWarning)\n",
      "/Users/jadetao/opt/anaconda3/lib/python3.7/site-packages/sklearn/linear_model/logistic.py:432: FutureWarning: Default solver will be changed to 'lbfgs' in 0.22. Specify a solver to silence this warning.\n",
      "  FutureWarning)\n",
      "/Users/jadetao/opt/anaconda3/lib/python3.7/site-packages/sklearn/linear_model/logistic.py:432: FutureWarning: Default solver will be changed to 'lbfgs' in 0.22. Specify a solver to silence this warning.\n",
      "  FutureWarning)\n",
      "/Users/jadetao/opt/anaconda3/lib/python3.7/site-packages/sklearn/linear_model/logistic.py:432: FutureWarning: Default solver will be changed to 'lbfgs' in 0.22. Specify a solver to silence this warning.\n",
      "  FutureWarning)\n",
      "/Users/jadetao/opt/anaconda3/lib/python3.7/site-packages/sklearn/linear_model/logistic.py:432: FutureWarning: Default solver will be changed to 'lbfgs' in 0.22. Specify a solver to silence this warning.\n",
      "  FutureWarning)\n",
      "/Users/jadetao/opt/anaconda3/lib/python3.7/site-packages/sklearn/linear_model/logistic.py:432: FutureWarning: Default solver will be changed to 'lbfgs' in 0.22. Specify a solver to silence this warning.\n",
      "  FutureWarning)\n"
     ]
    }
   ],
   "source": [
    "# Feature extraction\n",
    "model = LogisticRegression()\n",
    "rfe = RFE(model,20)\n",
    "fit = rfe.fit(X2, Y)\n",
    "print(\"Num Features: %s\" % (fit.n_features_))\n",
    "print(\"Selected Features: %s\" % (fit.support_))\n",
    "print(\"Feature Ranking: %s\" % (fit.ranking_))"
   ]
  },
  {
   "cell_type": "code",
   "execution_count": 65,
   "metadata": {},
   "outputs": [
    {
     "name": "stderr",
     "output_type": "stream",
     "text": [
      "/Users/jadetao/opt/anaconda3/lib/python3.7/site-packages/ipykernel_launcher.py:6: DataConversionWarning: A column-vector y was passed when a 1d array was expected. Please change the shape of y to (n_samples,), for example using ravel().\n",
      "  \n"
     ]
    }
   ],
   "source": [
    "# Feature Importance with Extra Trees Classifier\n",
    "from sklearn.ensemble import ExtraTreesClassifier\n",
    "\n",
    "# Building the model \n",
    "extra_tree_forest = ExtraTreesClassifier(n_estimators = 36, \n",
    "                                        criterion ='entropy', max_features = 8) \n",
    "  \n",
    "# Training the model \n",
    "extra_tree_forest.fit(X2, Y) \n",
    "  \n",
    "# Computing the importance of each feature \n",
    "feature_importance = extra_tree_forest.feature_importances_ \n",
    "  \n",
    "# Normalizing the individual importances \n",
    "feature_importance_normalized = np.std([tree.feature_importances_ for tree in \n",
    "                                        extra_tree_forest.estimators_], \n",
    "                                        axis = 0) "
   ]
  },
  {
   "cell_type": "code",
   "execution_count": 67,
   "metadata": {},
   "outputs": [],
   "source": [
    "X2=mixDt[predictors]"
   ]
  },
  {
   "cell_type": "code",
   "execution_count": 68,
   "metadata": {},
   "outputs": [
    {
     "data": {
      "image/png": "[encoded data removed]",
      "text/plain": [
       "<Figure size 1440x720 with 1 Axes>"
      ]
     },
     "metadata": {
      "needs_background": "light"
     },
     "output_type": "display_data"
    },
    {
     "data": {
      "image/png": "[encoded data removed]",
      "text/plain": [
       "<Figure size 1440x576 with 1 Axes>"
      ]
     },
     "metadata": {
      "needs_background": "light"
     },
     "output_type": "display_data"
    }
   ],
   "source": [
    "from matplotlib.pylab import rcParams\n",
    "rcParams['figure.figsize']=20,10\n",
    "# Plotting a Bar Graph to compare the models \n",
    "plt.bar(X2.columns, feature_importance_normalized) \n",
    "plt.figure(figsize=(20,8))\n",
    "plt.xlabel('Feature Labels') \n",
    "plt.ylabel('Feature Importances') \n",
    "plt.title('Comparison of different Feature Importances') \n",
    "plt.show() "
   ]
  }
 ],
 "metadata": {
  "colab": {
   "authorship_tag": "ABX9TyN5qpZOJPGjV5bg7evaF8N7",
   "name": "featureSelection.ipynb",
   "provenance": []
  },
  "kernelspec": {
   "display_name": "Python 3",
   "language": "python",
   "name": "python3"
  },
  "language_info": {
   "codemirror_mode": {
    "name": "ipython",
    "version": 3
   },
   "file_extension": ".py",
   "mimetype": "text/x-python",
   "name": "python",
   "nbconvert_exporter": "python",
   "pygments_lexer": "ipython3",
   "version": "3.7.4"
  }
 },
 "nbformat": 4,
 "nbformat_minor": 1
}
