{
 "cells": [
  {
   "cell_type": "code",
   "execution_count": 1,
   "metadata": {},
   "outputs": [],
   "source": [
    "import pandas as pd\n",
    "import numpy as np\n",
    "import json\n",
    "import matplotlib.pyplot as plt"
   ]
  },
  {
   "cell_type": "code",
   "execution_count": 3,
   "metadata": {},
   "outputs": [
    {
     "name": "stdout",
     "output_type": "stream",
     "text": [
      "Collecting package metadata (current_repodata.json): done\n",
      "Solving environment: done\n",
      "\n",
      "# All requested packages already installed.\n",
      "\n",
      "\n",
      "Note: you may need to restart the kernel to use updated packages.\n"
     ]
    }
   ],
   "source": [
    "conda install tensorflow"
   ]
  },
  {
   "cell_type": "code",
   "execution_count": 4,
   "metadata": {
    "scrolled": true
   },
   "outputs": [],
   "source": [
    "# import tensorflow.keras\n",
    "from tensorflow.keras.models import model_from_json"
   ]
  },
  {
   "cell_type": "code",
   "execution_count": 5,
   "metadata": {},
   "outputs": [],
   "source": [
    "json_file = open('model.json', 'r')\n",
    "loaded_model_json = json_file.read()\n",
    "json_file.close()\n",
    "model = model_from_json(loaded_model_json)\n",
    "model.load_weights(\"model.h5\")"
   ]
  },
  {
   "cell_type": "code",
   "execution_count": 60,
   "metadata": {},
   "outputs": [],
   "source": [
    "# load the scaler\n",
    "from pickle import load\n",
    "scaler = load(open('scaler.pkl', 'rb'))"
   ]
  },
  {
   "cell_type": "code",
   "execution_count": 9,
   "metadata": {},
   "outputs": [],
   "source": [
    "import json, requests"
   ]
  },
  {
   "cell_type": "code",
   "execution_count": 67,
   "metadata": {},
   "outputs": [],
   "source": [
    "# from json import requests\n",
    "url = \"http://magic-stocks.herokuapp.com/api/v1/metrics/amzn\"\n",
    "response = requests.get(url).json()\n",
    "df = pd.DataFrame(response)"
   ]
  },
  {
   "cell_type": "code",
   "execution_count": 68,
   "metadata": {
    "scrolled": true
   },
   "outputs": [
    {
     "data": {
      "text/html": [
       "<div>\n",
       "<style scoped>\n",
       "    .dataframe tbody tr th:only-of-type {\n",
       "        vertical-align: middle;\n",
       "    }\n",
       "\n",
       "    .dataframe tbody tr th {\n",
       "        vertical-align: top;\n",
       "    }\n",
       "\n",
       "    .dataframe thead th {\n",
       "        text-align: right;\n",
       "    }\n",
       "</style>\n",
       "<table border=\"1\" class=\"dataframe\">\n",
       "  <thead>\n",
       "    <tr style=\"text-align: right;\">\n",
       "      <th></th>\n",
       "      <th>adj_close</th>\n",
       "      <th>close</th>\n",
       "      <th>date</th>\n",
       "      <th>direction</th>\n",
       "      <th>dividend</th>\n",
       "      <th>high</th>\n",
       "      <th>id</th>\n",
       "      <th>low</th>\n",
       "      <th>next_close</th>\n",
       "      <th>open_amt</th>\n",
       "      <th>roc</th>\n",
       "      <th>rsi</th>\n",
       "      <th>slowd</th>\n",
       "      <th>slowk</th>\n",
       "      <th>sma</th>\n",
       "      <th>split</th>\n",
       "      <th>std</th>\n",
       "      <th>ticker</th>\n",
       "      <th>volume</th>\n",
       "      <th>willr</th>\n",
       "    </tr>\n",
       "  </thead>\n",
       "  <tbody>\n",
       "    <tr>\n",
       "      <td>0</td>\n",
       "      <td>117.26</td>\n",
       "      <td>117.26</td>\n",
       "      <td>2010-07-09</td>\n",
       "      <td>1</td>\n",
       "      <td>0.0</td>\n",
       "      <td>117.40</td>\n",
       "      <td>1</td>\n",
       "      <td>114.6500</td>\n",
       "      <td>119.51</td>\n",
       "      <td>116.55</td>\n",
       "      <td>-6.8108</td>\n",
       "      <td>47.4477</td>\n",
       "      <td>73.9080</td>\n",
       "      <td>94.3198</td>\n",
       "      <td>115.5984</td>\n",
       "      <td>1.0</td>\n",
       "      <td>7.60445</td>\n",
       "      <td>AMZN</td>\n",
       "      <td>4065100</td>\n",
       "      <td>-47.6013</td>\n",
       "    </tr>\n",
       "    <tr>\n",
       "      <td>1</td>\n",
       "      <td>119.51</td>\n",
       "      <td>119.51</td>\n",
       "      <td>2010-07-12</td>\n",
       "      <td>1</td>\n",
       "      <td>0.0</td>\n",
       "      <td>119.70</td>\n",
       "      <td>12</td>\n",
       "      <td>117.3200</td>\n",
       "      <td>123.65</td>\n",
       "      <td>117.81</td>\n",
       "      <td>-2.4806</td>\n",
       "      <td>51.1105</td>\n",
       "      <td>87.9041</td>\n",
       "      <td>94.6899</td>\n",
       "      <td>115.3812</td>\n",
       "      <td>1.0</td>\n",
       "      <td>7.23980</td>\n",
       "      <td>AMZN</td>\n",
       "      <td>4783600</td>\n",
       "      <td>-29.7607</td>\n",
       "    </tr>\n",
       "    <tr>\n",
       "      <td>2</td>\n",
       "      <td>123.65</td>\n",
       "      <td>123.65</td>\n",
       "      <td>2010-07-13</td>\n",
       "      <td>-1</td>\n",
       "      <td>0.0</td>\n",
       "      <td>124.88</td>\n",
       "      <td>23</td>\n",
       "      <td>120.3000</td>\n",
       "      <td>123.30</td>\n",
       "      <td>120.69</td>\n",
       "      <td>1.0981</td>\n",
       "      <td>57.0432</td>\n",
       "      <td>94.9583</td>\n",
       "      <td>95.8653</td>\n",
       "      <td>115.4771</td>\n",
       "      <td>1.0</td>\n",
       "      <td>7.46150</td>\n",
       "      <td>AMZN</td>\n",
       "      <td>7091100</td>\n",
       "      <td>-6.5183</td>\n",
       "    </tr>\n",
       "    <tr>\n",
       "      <td>3</td>\n",
       "      <td>123.30</td>\n",
       "      <td>123.30</td>\n",
       "      <td>2010-07-14</td>\n",
       "      <td>-1</td>\n",
       "      <td>0.0</td>\n",
       "      <td>123.75</td>\n",
       "      <td>34</td>\n",
       "      <td>121.4749</td>\n",
       "      <td>122.06</td>\n",
       "      <td>123.03</td>\n",
       "      <td>1.5233</td>\n",
       "      <td>56.4198</td>\n",
       "      <td>94.1235</td>\n",
       "      <td>91.8154</td>\n",
       "      <td>115.6093</td>\n",
       "      <td>1.0</td>\n",
       "      <td>7.72890</td>\n",
       "      <td>AMZN</td>\n",
       "      <td>5257000</td>\n",
       "      <td>-8.3731</td>\n",
       "    </tr>\n",
       "    <tr>\n",
       "      <td>4</td>\n",
       "      <td>122.06</td>\n",
       "      <td>122.06</td>\n",
       "      <td>2010-07-15</td>\n",
       "      <td>-1</td>\n",
       "      <td>0.0</td>\n",
       "      <td>122.48</td>\n",
       "      <td>45</td>\n",
       "      <td>119.2600</td>\n",
       "      <td>118.49</td>\n",
       "      <td>120.13</td>\n",
       "      <td>3.1522</td>\n",
       "      <td>54.1617</td>\n",
       "      <td>90.2998</td>\n",
       "      <td>83.2187</td>\n",
       "      <td>115.8757</td>\n",
       "      <td>1.0</td>\n",
       "      <td>8.06685</td>\n",
       "      <td>AMZN</td>\n",
       "      <td>6047700</td>\n",
       "      <td>-14.9444</td>\n",
       "    </tr>\n",
       "  </tbody>\n",
       "</table>\n",
       "</div>"
      ],
      "text/plain": [
       "   adj_close   close        date  direction  dividend    high  id       low  \\\n",
       "0     117.26  117.26  2010-07-09          1       0.0  117.40   1  114.6500   \n",
       "1     119.51  119.51  2010-07-12          1       0.0  119.70  12  117.3200   \n",
       "2     123.65  123.65  2010-07-13         -1       0.0  124.88  23  120.3000   \n",
       "3     123.30  123.30  2010-07-14         -1       0.0  123.75  34  121.4749   \n",
       "4     122.06  122.06  2010-07-15         -1       0.0  122.48  45  119.2600   \n",
       "\n",
       "   next_close  open_amt     roc      rsi    slowd    slowk       sma  split  \\\n",
       "0      119.51    116.55 -6.8108  47.4477  73.9080  94.3198  115.5984    1.0   \n",
       "1      123.65    117.81 -2.4806  51.1105  87.9041  94.6899  115.3812    1.0   \n",
       "2      123.30    120.69  1.0981  57.0432  94.9583  95.8653  115.4771    1.0   \n",
       "3      122.06    123.03  1.5233  56.4198  94.1235  91.8154  115.6093    1.0   \n",
       "4      118.49    120.13  3.1522  54.1617  90.2998  83.2187  115.8757    1.0   \n",
       "\n",
       "       std ticker   volume    willr  \n",
       "0  7.60445   AMZN  4065100 -47.6013  \n",
       "1  7.23980   AMZN  4783600 -29.7607  \n",
       "2  7.46150   AMZN  7091100  -6.5183  \n",
       "3  7.72890   AMZN  5257000  -8.3731  \n",
       "4  8.06685   AMZN  6047700 -14.9444  "
      ]
     },
     "execution_count": 68,
     "metadata": {},
     "output_type": "execute_result"
    }
   ],
   "source": [
    "df.head()"
   ]
  },
  {
   "cell_type": "code",
   "execution_count": 69,
   "metadata": {},
   "outputs": [],
   "source": [
    "new_dataset=pd.DataFrame(index=range(0,len(df)),columns=['date','close'])\n",
    "for i in range(0,len(df)):\n",
    "    new_dataset[\"date\"][i]=df['date'][i]\n",
    "    new_dataset[\"close\"][i]=df[\"close\"][i]"
   ]
  },
  {
   "cell_type": "code",
   "execution_count": 70,
   "metadata": {},
   "outputs": [],
   "source": [
    "df = df['close']"
   ]
  },
  {
   "cell_type": "code",
   "execution_count": 71,
   "metadata": {
    "scrolled": true
   },
   "outputs": [],
   "source": [
    "# df = scaler.transform(df)\n"
   ]
  },
  {
   "cell_type": "code",
   "execution_count": 72,
   "metadata": {},
   "outputs": [],
   "source": [
    "X = []\n",
    "X.append(df.values[-61:-1])"
   ]
  },
  {
   "cell_type": "code",
   "execution_count": 73,
   "metadata": {
    "scrolled": true
   },
   "outputs": [
    {
     "data": {
      "text/plain": [
       "(1, 60)"
      ]
     },
     "execution_count": 73,
     "metadata": {},
     "output_type": "execute_result"
    }
   ],
   "source": [
    "np.shape(X)"
   ]
  },
  {
   "cell_type": "code",
   "execution_count": 74,
   "metadata": {},
   "outputs": [],
   "source": [
    "X=scaler.transform(X)"
   ]
  },
  {
   "cell_type": "code",
   "execution_count": 75,
   "metadata": {},
   "outputs": [],
   "source": [
    "X = np.array(X)"
   ]
  },
  {
   "cell_type": "code",
   "execution_count": 76,
   "metadata": {
    "scrolled": true
   },
   "outputs": [],
   "source": [
    "X = np.reshape(X, (X.shape[0], X.shape[1], 1))"
   ]
  },
  {
   "cell_type": "code",
   "execution_count": 77,
   "metadata": {},
   "outputs": [
    {
     "data": {
      "text/plain": [
       "(1, 60, 1)"
      ]
     },
     "execution_count": 77,
     "metadata": {},
     "output_type": "execute_result"
    }
   ],
   "source": [
    "X.shape"
   ]
  },
  {
   "cell_type": "code",
   "execution_count": 78,
   "metadata": {},
   "outputs": [],
   "source": [
    "predicted = model(X)"
   ]
  },
  {
   "cell_type": "code",
   "execution_count": 79,
   "metadata": {},
   "outputs": [
    {
     "data": {
      "text/plain": [
       "<tf.Tensor: id=7118, shape=(1, 1), dtype=float32, numpy=array([[0.890858]], dtype=float32)>"
      ]
     },
     "execution_count": 79,
     "metadata": {},
     "output_type": "execute_result"
    }
   ],
   "source": [
    "predicted"
   ]
  },
  {
   "cell_type": "code",
   "execution_count": 80,
   "metadata": {},
   "outputs": [
    {
     "data": {
      "text/plain": [
       "0.890858"
      ]
     },
     "execution_count": 80,
     "metadata": {},
     "output_type": "execute_result"
    }
   ],
   "source": [
    "predicted.numpy()[0][0]"
   ]
  },
  {
   "cell_type": "code",
   "execution_count": 81,
   "metadata": {},
   "outputs": [],
   "source": [
    "predicted_price = scaler.inverse_transform(predicted)"
   ]
  },
  {
   "cell_type": "code",
   "execution_count": 82,
   "metadata": {},
   "outputs": [
    {
     "data": {
      "text/plain": [
       "array([[2848.02571397]])"
      ]
     },
     "execution_count": 82,
     "metadata": {},
     "output_type": "execute_result"
    }
   ],
   "source": [
    "predicted_price"
   ]
  },
  {
   "cell_type": "code",
   "execution_count": 83,
   "metadata": {},
   "outputs": [
    {
     "data": {
      "text/plain": [
       "2848.025713971257"
      ]
     },
     "execution_count": 83,
     "metadata": {},
     "output_type": "execute_result"
    }
   ],
   "source": [
    "predicted_price[0][0]"
   ]
  },
  {
   "cell_type": "code",
   "execution_count": null,
   "metadata": {},
   "outputs": [],
   "source": []
  },
  {
   "cell_type": "code",
   "execution_count": 86,
   "metadata": {},
   "outputs": [],
   "source": [
    "# from json import requests\n",
    "url = \"http://magic-stocks.herokuapp.com/api/v1/metrics/aapl\"\n",
    "response = requests.get(url).json()\n",
    "df = pd.DataFrame(response)"
   ]
  },
  {
   "cell_type": "code",
   "execution_count": 87,
   "metadata": {
    "scrolled": true
   },
   "outputs": [
    {
     "data": {
      "text/html": [
       "<div>\n",
       "<style scoped>\n",
       "    .dataframe tbody tr th:only-of-type {\n",
       "        vertical-align: middle;\n",
       "    }\n",
       "\n",
       "    .dataframe tbody tr th {\n",
       "        vertical-align: top;\n",
       "    }\n",
       "\n",
       "    .dataframe thead th {\n",
       "        text-align: right;\n",
       "    }\n",
       "</style>\n",
       "<table border=\"1\" class=\"dataframe\">\n",
       "  <thead>\n",
       "    <tr style=\"text-align: right;\">\n",
       "      <th></th>\n",
       "      <th>adj_close</th>\n",
       "      <th>close</th>\n",
       "      <th>date</th>\n",
       "      <th>direction</th>\n",
       "      <th>dividend</th>\n",
       "      <th>high</th>\n",
       "      <th>id</th>\n",
       "      <th>low</th>\n",
       "      <th>next_close</th>\n",
       "      <th>open_amt</th>\n",
       "      <th>roc</th>\n",
       "      <th>rsi</th>\n",
       "      <th>slowd</th>\n",
       "      <th>slowk</th>\n",
       "      <th>sma</th>\n",
       "      <th>split</th>\n",
       "      <th>std</th>\n",
       "      <th>ticker</th>\n",
       "      <th>volume</th>\n",
       "      <th>willr</th>\n",
       "    </tr>\n",
       "  </thead>\n",
       "  <tbody>\n",
       "    <tr>\n",
       "      <td>0</td>\n",
       "      <td>32.1049</td>\n",
       "      <td>259.620</td>\n",
       "      <td>2010-07-09</td>\n",
       "      <td>-1</td>\n",
       "      <td>0.0</td>\n",
       "      <td>259.90</td>\n",
       "      <td>0</td>\n",
       "      <td>255.16</td>\n",
       "      <td>257.285</td>\n",
       "      <td>256.89</td>\n",
       "      <td>-5.2738</td>\n",
       "      <td>51.7078</td>\n",
       "      <td>66.4258</td>\n",
       "      <td>86.0865</td>\n",
       "      <td>260.5082</td>\n",
       "      <td>1.0</td>\n",
       "      <td>13.48390</td>\n",
       "      <td>AAPL</td>\n",
       "      <td>15475800</td>\n",
       "      <td>-54.1469</td>\n",
       "    </tr>\n",
       "    <tr>\n",
       "      <td>1</td>\n",
       "      <td>31.8161</td>\n",
       "      <td>257.285</td>\n",
       "      <td>2010-07-12</td>\n",
       "      <td>-1</td>\n",
       "      <td>0.0</td>\n",
       "      <td>261.85</td>\n",
       "      <td>11</td>\n",
       "      <td>254.86</td>\n",
       "      <td>251.798</td>\n",
       "      <td>258.53</td>\n",
       "      <td>-4.7692</td>\n",
       "      <td>49.4387</td>\n",
       "      <td>76.0207</td>\n",
       "      <td>75.1305</td>\n",
       "      <td>259.5879</td>\n",
       "      <td>1.0</td>\n",
       "      <td>12.90640</td>\n",
       "      <td>AAPL</td>\n",
       "      <td>20102800</td>\n",
       "      <td>-57.0186</td>\n",
       "    </tr>\n",
       "    <tr>\n",
       "      <td>2</td>\n",
       "      <td>31.1376</td>\n",
       "      <td>251.798</td>\n",
       "      <td>2010-07-13</td>\n",
       "      <td>1</td>\n",
       "      <td>0.0</td>\n",
       "      <td>256.40</td>\n",
       "      <td>22</td>\n",
       "      <td>246.43</td>\n",
       "      <td>252.727</td>\n",
       "      <td>256.32</td>\n",
       "      <td>-8.0526</td>\n",
       "      <td>44.4971</td>\n",
       "      <td>74.0057</td>\n",
       "      <td>60.8001</td>\n",
       "      <td>258.0127</td>\n",
       "      <td>1.0</td>\n",
       "      <td>11.74970</td>\n",
       "      <td>AAPL</td>\n",
       "      <td>42533000</td>\n",
       "      <td>-72.6701</td>\n",
       "    </tr>\n",
       "    <tr>\n",
       "      <td>3</td>\n",
       "      <td>31.2525</td>\n",
       "      <td>252.727</td>\n",
       "      <td>2010-07-14</td>\n",
       "      <td>-1</td>\n",
       "      <td>0.0</td>\n",
       "      <td>255.80</td>\n",
       "      <td>33</td>\n",
       "      <td>249.00</td>\n",
       "      <td>251.450</td>\n",
       "      <td>249.38</td>\n",
       "      <td>-6.7325</td>\n",
       "      <td>45.4905</td>\n",
       "      <td>60.5639</td>\n",
       "      <td>45.7611</td>\n",
       "      <td>256.7096</td>\n",
       "      <td>1.0</td>\n",
       "      <td>10.57085</td>\n",
       "      <td>AAPL</td>\n",
       "      <td>29001700</td>\n",
       "      <td>-68.2380</td>\n",
       "    </tr>\n",
       "    <tr>\n",
       "      <td>4</td>\n",
       "      <td>31.0946</td>\n",
       "      <td>251.450</td>\n",
       "      <td>2010-07-15</td>\n",
       "      <td>-1</td>\n",
       "      <td>0.0</td>\n",
       "      <td>256.97</td>\n",
       "      <td>44</td>\n",
       "      <td>247.30</td>\n",
       "      <td>249.900</td>\n",
       "      <td>248.23</td>\n",
       "      <td>-6.5242</td>\n",
       "      <td>44.3163</td>\n",
       "      <td>47.0072</td>\n",
       "      <td>34.4603</td>\n",
       "      <td>255.4561</td>\n",
       "      <td>1.0</td>\n",
       "      <td>9.40085</td>\n",
       "      <td>AAPL</td>\n",
       "      <td>29459500</td>\n",
       "      <td>-69.5235</td>\n",
       "    </tr>\n",
       "  </tbody>\n",
       "</table>\n",
       "</div>"
      ],
      "text/plain": [
       "   adj_close    close        date  direction  dividend    high  id     low  \\\n",
       "0    32.1049  259.620  2010-07-09         -1       0.0  259.90   0  255.16   \n",
       "1    31.8161  257.285  2010-07-12         -1       0.0  261.85  11  254.86   \n",
       "2    31.1376  251.798  2010-07-13          1       0.0  256.40  22  246.43   \n",
       "3    31.2525  252.727  2010-07-14         -1       0.0  255.80  33  249.00   \n",
       "4    31.0946  251.450  2010-07-15         -1       0.0  256.97  44  247.30   \n",
       "\n",
       "   next_close  open_amt     roc      rsi    slowd    slowk       sma  split  \\\n",
       "0     257.285    256.89 -5.2738  51.7078  66.4258  86.0865  260.5082    1.0   \n",
       "1     251.798    258.53 -4.7692  49.4387  76.0207  75.1305  259.5879    1.0   \n",
       "2     252.727    256.32 -8.0526  44.4971  74.0057  60.8001  258.0127    1.0   \n",
       "3     251.450    249.38 -6.7325  45.4905  60.5639  45.7611  256.7096    1.0   \n",
       "4     249.900    248.23 -6.5242  44.3163  47.0072  34.4603  255.4561    1.0   \n",
       "\n",
       "        std ticker    volume    willr  \n",
       "0  13.48390   AAPL  15475800 -54.1469  \n",
       "1  12.90640   AAPL  20102800 -57.0186  \n",
       "2  11.74970   AAPL  42533000 -72.6701  \n",
       "3  10.57085   AAPL  29001700 -68.2380  \n",
       "4   9.40085   AAPL  29459500 -69.5235  "
      ]
     },
     "execution_count": 87,
     "metadata": {},
     "output_type": "execute_result"
    }
   ],
   "source": [
    "df.head()"
   ]
  },
  {
   "cell_type": "code",
   "execution_count": 88,
   "metadata": {},
   "outputs": [],
   "source": [
    "new_dataset=pd.DataFrame(index=range(0,len(df)),columns=['date','close'])\n",
    "for i in range(0,len(df)):\n",
    "    new_dataset[\"date\"][i]=df['date'][i]\n",
    "    new_dataset[\"close\"][i]=df[\"close\"][i]"
   ]
  },
  {
   "cell_type": "code",
   "execution_count": 89,
   "metadata": {},
   "outputs": [],
   "source": [
    "df = df['close']"
   ]
  },
  {
   "cell_type": "code",
   "execution_count": 90,
   "metadata": {
    "scrolled": true
   },
   "outputs": [],
   "source": [
    "# df = scaler.transform(df)\n"
   ]
  },
  {
   "cell_type": "code",
   "execution_count": 91,
   "metadata": {},
   "outputs": [],
   "source": [
    "X = []\n",
    "X.append(df.values[-61:-1])"
   ]
  },
  {
   "cell_type": "code",
   "execution_count": 92,
   "metadata": {
    "scrolled": true
   },
   "outputs": [
    {
     "data": {
      "text/plain": [
       "(1, 60)"
      ]
     },
     "execution_count": 92,
     "metadata": {},
     "output_type": "execute_result"
    }
   ],
   "source": [
    "np.shape(X)"
   ]
  },
  {
   "cell_type": "code",
   "execution_count": 93,
   "metadata": {},
   "outputs": [],
   "source": [
    "X=scaler.transform(X)"
   ]
  },
  {
   "cell_type": "code",
   "execution_count": 94,
   "metadata": {},
   "outputs": [],
   "source": [
    "X = np.array(X)"
   ]
  },
  {
   "cell_type": "code",
   "execution_count": 95,
   "metadata": {
    "scrolled": true
   },
   "outputs": [],
   "source": [
    "X = np.reshape(X, (X.shape[0], X.shape[1], 1))"
   ]
  },
  {
   "cell_type": "code",
   "execution_count": 96,
   "metadata": {},
   "outputs": [
    {
     "data": {
      "text/plain": [
       "(1, 60, 1)"
      ]
     },
     "execution_count": 96,
     "metadata": {},
     "output_type": "execute_result"
    }
   ],
   "source": [
    "X.shape"
   ]
  },
  {
   "cell_type": "code",
   "execution_count": 97,
   "metadata": {},
   "outputs": [],
   "source": [
    "predicted = model(X)"
   ]
  },
  {
   "cell_type": "code",
   "execution_count": 98,
   "metadata": {},
   "outputs": [
    {
     "data": {
      "text/plain": [
       "<tf.Tensor: id=10362, shape=(1, 1), dtype=float32, numpy=array([[0.08223367]], dtype=float32)>"
      ]
     },
     "execution_count": 98,
     "metadata": {},
     "output_type": "execute_result"
    }
   ],
   "source": [
    "predicted"
   ]
  },
  {
   "cell_type": "code",
   "execution_count": 99,
   "metadata": {},
   "outputs": [
    {
     "data": {
      "text/plain": [
       "0.08223367"
      ]
     },
     "execution_count": 99,
     "metadata": {},
     "output_type": "execute_result"
    }
   ],
   "source": [
    "predicted.numpy()[0][0]"
   ]
  },
  {
   "cell_type": "code",
   "execution_count": 100,
   "metadata": {},
   "outputs": [],
   "source": [
    "predicted_price = scaler.inverse_transform(predicted)"
   ]
  },
  {
   "cell_type": "code",
   "execution_count": 101,
   "metadata": {},
   "outputs": [
    {
     "data": {
      "text/plain": [
       "array([[368.96951042]])"
      ]
     },
     "execution_count": 101,
     "metadata": {},
     "output_type": "execute_result"
    }
   ],
   "source": [
    "predicted_price"
   ]
  },
  {
   "cell_type": "code",
   "execution_count": 102,
   "metadata": {},
   "outputs": [
    {
     "data": {
      "text/plain": [
       "368.9695104241371"
      ]
     },
     "execution_count": 102,
     "metadata": {},
     "output_type": "execute_result"
    }
   ],
   "source": [
    "predicted_price[0][0]"
   ]
  },
  {
   "cell_type": "code",
   "execution_count": null,
   "metadata": {},
   "outputs": [],
   "source": []
  }
 ],
 "metadata": {
  "kernelspec": {
   "display_name": "Python 3",
   "language": "python",
   "name": "python3"
  },
  "language_info": {
   "codemirror_mode": {
    "name": "ipython",
    "version": 3
   },
   "file_extension": ".py",
   "mimetype": "text/x-python",
   "name": "python",
   "nbconvert_exporter": "python",
   "pygments_lexer": "ipython3",
   "version": "3.6.10"
  }
 },
 "nbformat": 4,
 "nbformat_minor": 2
}
